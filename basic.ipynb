{
 "cells": [
  {
   "cell_type": "code",
   "execution_count": 21,
   "metadata": {},
   "outputs": [
    {
     "name": "stdout",
     "output_type": "stream",
     "text": [
      "version    : BitField  (4 bits)                  = 4               ('4')\n",
      "ihl        : BitField  (4 bits)                  = None            ('None')\n",
      "tos        : XByteField                          = 0               ('0')\n",
      "len        : ShortField                          = None            ('None')\n",
      "id         : ShortField                          = 1               ('1')\n",
      "flags      : FlagsField                          = <Flag 0 ()>     ('<Flag 0 ()>')\n",
      "frag       : BitField  (13 bits)                 = 0               ('0')\n",
      "ttl        : ByteField                           = 32              ('64')\n",
      "proto      : ByteEnumField                       = 0               ('0')\n",
      "chksum     : XShortField                         = None            ('None')\n",
      "src        : SourceIPField                       = '192.168.1.1'   ('None')\n",
      "dst        : DestIPField                         = '192.168.1.101' ('None')\n",
      "options    : PacketListField                     = []              ('[]')\n"
     ]
    }
   ],
   "source": [
    "from scapy.all import *\n",
    "\n",
    "# 建立IP封包\n",
    "# 0-255 由4個2進位表示 0000~1111\n",
    "# /24為CIDR格式 /24表示IP地址的前24位是網路號 最後一部分是主機位置(0-255)\n",
    "ip = IP(dst=\"192.168.1.1/24\")\n",
    "ip\n",
    "[p for p in ip]\n",
    "\n",
    "#建立Ether封包 用於建立ARP封包\n",
    "et = Ether(dst=\"ff:ff:ff:ff:ff:ff\")\n",
    "et\n",
    "\n",
    "# /是分層符號 一個資料封包是由多層協定組合而成的\n",
    "# 由底而上 從左至右排列的話 ex Ether()/IP()/TCP() 來完成一個TCP封包\n",
    "Ether()/IP()/TCP()\n",
    "\n",
    "# 檢視有哪些屬性\n",
    "# ls(Ether())\n",
    "# ls(IP())\n",
    "# ls(TCP())\n",
    "\n",
    "# 填充屬性\n",
    "ls(IP(src=\"192.168.1.1\", dst=\"192.168.1.101\", ttl=32))\n"
   ]
  },
  {
   "cell_type": "code",
   "execution_count": 6,
   "metadata": {},
   "outputs": [
    {
     "name": "stdout",
     "output_type": "stream",
     "text": [
      "\n",
      "Sent 1 packets.\n",
      "\n",
      "Sent 1 packets.\n"
     ]
    },
    {
     "data": {
      "text/plain": [
       "<IP  frag=0 proto=tcp dst=192.168.1.101 |<TCP  |>>"
      ]
     },
     "execution_count": 6,
     "metadata": {},
     "output_type": "execute_result"
    }
   ],
   "source": [
    "# 發送封包\n",
    "from scapy.all import *\n",
    "# 發送IP封包\n",
    "send(IP(dst=\"192.168.1.101\")/ICMP())\n",
    "# 發送Ether封包\n",
    "sendp(Ether(dst=\"ff:ff:ff:ff:ff:ff\"))\n",
    "# send工作於第三層 sendp工作於第二層\n",
    "# 這兩個函數特點是只發不收\n",
    "\n",
    "# 發送隨機填充資料的封包，並且保障資料的正確性，使用fuzz函數\n",
    "IP(dst=\"192.168.1.101\")/fuzz(TCP())\n",
    "\n"
   ]
  },
  {
   "cell_type": "code",
   "execution_count": 7,
   "metadata": {},
   "outputs": [
    {
     "name": "stdout",
     "output_type": "stream",
     "text": [
      "Begin emission:\n",
      "Finished sending 1 packets.\n",
      "\n",
      "Received 4 packets, got 1 answers, remaining 0 packets\n"
     ]
    },
    {
     "data": {
      "text/plain": [
       "<IP  version=4 ihl=5 tos=0x0 len=44 id=0 flags=DF frag=0 ttl=64 proto=tcp chksum=0xb8b0 src=192.168.0.1 dst=192.168.0.202 |<TCP  sport=http dport=ftp_data seq=2394982679 ack=1 dataofs=6 reserved=0 flags=SA window=14600 chksum=0xc4b5 urgptr=0 options=[('MSS', 1460)] |>>"
      ]
     },
     "execution_count": 7,
     "metadata": {},
     "output_type": "execute_result"
    }
   ],
   "source": [
    "# 發送及接收封包\n",
    "from scapy.all import *\n",
    "# 分別是 sr sr1 srp\n",
    "\n",
    "#ans, unans = sr(IP(dst=\"192.168.0.1\")/ICMP())\n",
    "#print(ans, unans)\n",
    "#檢視ans內容\n",
    "# ans.summary()\n",
    "\n",
    "# sr1 和sr一樣但只傳回一個回應的封包\n",
    "#p = sr1(IP(dst=\"192.168.0.1\")/ICMP())\n",
    "#print(ans, unans)\n",
    "\n",
    "# 使用sr1檢測通訊埠是否開啟，採用半開掃描\n",
    "sr1(IP(dst=\"192.168.0.1\")/TCP(dport=80, flags=\"S\"))\n",
    "\n"
   ]
  },
  {
   "cell_type": "code",
   "execution_count": 22,
   "metadata": {},
   "outputs": [
    {
     "data": {
      "text/plain": [
       "'192.168.0.202 > Net(\"www.google.com/32\") ip'"
      ]
     },
     "execution_count": 22,
     "metadata": {},
     "output_type": "execute_result"
    }
   ],
   "source": [
    "# sniff 監聽封包\n",
    "from scapy.all import *\n",
    "\n",
    "# 執行此函式後 使用ping 測試監聽封包\n",
    "#sniff()\n",
    "\n",
    "# 使用filter參數對資料封包進行過濾\n",
    "#sniff(filter=\"host 192.168.0.1\")\n",
    "# sniff(filter=\"icmp\")\n",
    "#sniff(filter=\"host 192.168.0.1 and icmp\")\n",
    "\n",
    "# iface\n",
    "# sniff(iface=\"eth1\")\n",
    "\n",
    "# count 接收的封包數\n",
    "#sniff(count=3)\n",
    "\n",
    "#檢視sniff後的封包內容\n",
    "#a=_\n",
    "#a.nsummary()\n",
    "\n",
    "\n",
    "#摘要形式顯示pkt的內容\n",
    "p=IP(dst=\"www.google.com\")\n",
    "p.summary()\n"
   ]
  }
 ],
 "metadata": {
  "interpreter": {
   "hash": "034ff5a30616bfea5d5c4d2c410a7f296527d76361b886b1633eeb07d7e41a9c"
  },
  "kernelspec": {
   "display_name": "Python 3.7.8 64-bit ('scapy_packet_practive-ROXs8FM2-python': pipenv)",
   "language": "python",
   "name": "python3"
  },
  "language_info": {
   "codemirror_mode": {
    "name": "ipython",
    "version": 3
   },
   "file_extension": ".py",
   "mimetype": "text/x-python",
   "name": "python",
   "nbconvert_exporter": "python",
   "pygments_lexer": "ipython3",
   "version": "3.7.8"
  },
  "orig_nbformat": 4
 },
 "nbformat": 4,
 "nbformat_minor": 2
}
